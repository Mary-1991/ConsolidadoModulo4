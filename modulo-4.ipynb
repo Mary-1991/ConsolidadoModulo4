{
 "cells": [
  {
   "cell_type": "markdown",
   "metadata": {},
   "source": [
    "# Parte 1: Definición de Clases\n"
   ]
  },
  {
   "cell_type": "code",
   "execution_count": 1,
   "metadata": {},
   "outputs": [
    {
     "name": "stdout",
     "output_type": "stream",
     "text": [
      "\n",
      "Datos del automóvil 1:\n",
      "\n",
      "Datos del automóvil 2:\n",
      "Datos del automóvil 1: Marca toyota, Modelo corola, 4 ruedas, 100 Km/h, 200 cc\n",
      "Datos del automóvil 2: Marca kawasaki, Modelo rx-60, 2 ruedas, 300 Km/h, 200 cc\n"
     ]
    }
   ],
   "source": [
    "\n",
    "class Vehiculo:\n",
    "    def __init__(self, marca, modelo, nro_ruedas):\n",
    "        self.marca = marca\n",
    "        self.modelo = modelo\n",
    "        self.nro_ruedas = nro_ruedas\n",
    "\n",
    "\n",
    "class Automovil(Vehiculo):\n",
    "    def __init__(self, marca, modelo, nro_ruedas, velocidad, cilindrada):\n",
    "        super().__init__(marca, modelo, nro_ruedas)\n",
    "        self.velocidad = velocidad\n",
    "        self.cilindrada = cilindrada\n",
    "\n",
    "\n",
    "def solicitar_datos_automoviles():\n",
    "    vehiculos = []\n",
    "    cantidad = int(input(\"¿Cuántos automóviles desea insertar?: \"))\n",
    "\n",
    "    for i in range(1, cantidad + 1):\n",
    "        print(f\"\\nDatos del automóvil {i}:\")\n",
    "        marca = input(\"Inserte la marca del automóvil: \")\n",
    "        modelo = input(\"Inserte el modelo: \")\n",
    "        nro_ruedas = int(input(\"Inserte el número de ruedas: \"))\n",
    "        velocidad = int(input(\"Inserte la velocidad en km/h: \"))\n",
    "        cilindrada = int(input(\"Inserte el cilindraje en cc: \"))\n",
    "        vehiculos.append(Automovil(marca, modelo, nro_ruedas, velocidad, cilindrada))\n",
    "\n",
    "    # Mostrar los datos ingresados\n",
    "    for i, vehiculo in enumerate(vehiculos, start=1):\n",
    "        print(\n",
    "            f\"Datos del automóvil {i}: Marca {vehiculo.marca}, Modelo {vehiculo.modelo}, \"\n",
    "            f\"{vehiculo.nro_ruedas} ruedas, {vehiculo.velocidad} Km/h, {vehiculo.cilindrada} cc\"\n",
    "        )\n",
    "\n",
    "    return vehiculos\n",
    "\n",
    "\n",
    "# Ejecución de la Parte 1\n",
    "vehiculos = solicitar_datos_automoviles()"
   ]
  },
  {
   "cell_type": "markdown",
   "metadata": {},
   "source": [
    "# Parte 2: Extensión de las Clases"
   ]
  },
  {
   "cell_type": "code",
   "execution_count": 3,
   "metadata": {},
   "outputs": [
    {
     "name": "stdout",
     "output_type": "stream",
     "text": [
      "Marca Ford, Modelo Fiesta, 4 ruedas 180 Km/h, 500 cc Puestos: 5\n",
      "Marca Daft Trucks, Modelo G 38, 10 ruedas 120 Km/h, 1000 cc Carga: 20000 Kg\n",
      "Marca Shimano, Modelo MT Ranger, 2 ruedas Tipo: Carrera\n",
      "Marca BMW, Modelo F800s, 2 ruedas Tipo: Deportiva Motor: 2T, Cuadro: Doble Viga, Nro Radios: 21\n"
     ]
    }
   ],
   "source": [
    "\n",
    "class Particular(Automovil):\n",
    "    def __init__(self, marca, modelo, nro_ruedas, velocidad, cilindrada, nro_puestos):\n",
    "        super().__init__(marca, modelo, nro_ruedas, velocidad, cilindrada)\n",
    "        self.nro_puestos = nro_puestos\n",
    "\n",
    "\n",
    "class Carga(Automovil):\n",
    "    def __init__(self, marca, modelo, nro_ruedas, velocidad, cilindrada, carga):\n",
    "        super().__init__(marca, modelo, nro_ruedas, velocidad, cilindrada)\n",
    "        self.carga = carga\n",
    "\n",
    "\n",
    "class Bicicleta(Vehiculo):\n",
    "    def __init__(self, marca, modelo, nro_ruedas, tipo):\n",
    "        super().__init__(marca, modelo, nro_ruedas)\n",
    "        self.tipo = tipo\n",
    "\n",
    "\n",
    "class Motocicleta(Bicicleta):\n",
    "    def __init__(self, marca, modelo, nro_ruedas, tipo, motor, cuadro, nro_radios):\n",
    "        super().__init__(marca, modelo, nro_ruedas, tipo)\n",
    "        self.motor = motor\n",
    "        self.cuadro = cuadro\n",
    "        self.nro_radios = nro_radios\n",
    "\n",
    "\n",
    "# Crear las instancias solicitadas\n",
    "particular = Particular(\"Ford\", \"Fiesta\", 4, 180, 500, 5)\n",
    "carga = Carga(\"Daft Trucks\", \"G 38\", 10, 120, 1000, 20000)\n",
    "bicicleta = Bicicleta(\"Shimano\", \"MT Ranger\", 2, \"Carrera\")\n",
    "motocicleta = Motocicleta(\"BMW\", \"F800s\", 2, \"Deportiva\", \"2T\", \"Doble Viga\", 21)\n",
    "\n",
    "# Imprimir las instancias creadas\n",
    "print(\n",
    "    f\"Marca {particular.marca}, Modelo {particular.modelo}, {particular.nro_ruedas} ruedas {particular.velocidad} Km/h, {particular.cilindrada} cc Puestos: {particular.nro_puestos}\"\n",
    ")\n",
    "print(\n",
    "    f\"Marca {carga.marca}, Modelo {carga.modelo}, {carga.nro_ruedas} ruedas {carga.velocidad} Km/h, {carga.cilindrada} cc Carga: {carga.carga} Kg\"\n",
    ")\n",
    "print(\n",
    "    f\"Marca {bicicleta.marca}, Modelo {bicicleta.modelo}, {bicicleta.nro_ruedas} ruedas Tipo: {bicicleta.tipo}\"\n",
    ")\n",
    "print(\n",
    "    f\"Marca {motocicleta.marca}, Modelo {motocicleta.modelo}, {motocicleta.nro_ruedas} ruedas Tipo: {motocicleta.tipo} Motor: {motocicleta.motor}, Cuadro: {motocicleta.cuadro}, Nro Radios: {motocicleta.nro_radios}\"\n",
    ")"
   ]
  },
  {
   "cell_type": "markdown",
   "metadata": {},
   "source": [
    "# Parte 3:"
   ]
  },
  {
   "cell_type": "code",
   "execution_count": 4,
   "metadata": {},
   "outputs": [
    {
     "name": "stdout",
     "output_type": "stream",
     "text": [
      "\n",
      "Lista de Vehículos Particular\n",
      "{'marca': 'Ford', 'modelo': 'Fiesta', 'nro_ruedas': 4, 'velocidad': 180, 'cilindrada': 500, 'nro_puestos': 5}\n",
      "\n",
      "Lista de Vehículos Carga\n",
      "{'marca': 'Daft Trucks', 'modelo': 'G 38', 'nro_ruedas': 10, 'velocidad': 120, 'cilindrada': 1000, 'carga': 20000}\n",
      "\n",
      "Lista de Vehículos Bicicleta\n",
      "{'marca': 'Shimano', 'modelo': 'MT Ranger', 'nro_ruedas': 2, 'tipo': 'Carrera'}\n",
      "\n",
      "Lista de Vehículos Motocicleta\n",
      "{'marca': 'BMW', 'modelo': 'F800s', 'nro_ruedas': 2, 'tipo': 'Deportiva', 'motor': '2T', 'cuadro': 'Doble Viga', 'nro_radios': 21}\n"
     ]
    }
   ],
   "source": [
    "import csv\n",
    "\n",
    "\n",
    "# Guardar los vehículos en un archivo CSV\n",
    "def guardar_datos_csv(vehiculos, nombre_archivo=\"vehiculos.csv\"):\n",
    "    try:\n",
    "        with open(nombre_archivo, mode=\"w\", newline=\"\") as archivo:\n",
    "            escritor_csv = csv.writer(archivo)\n",
    "            for vehiculo in vehiculos:\n",
    "                escritor_csv.writerow([vehiculo.__class__.__name__, vehiculo.__dict__])\n",
    "    except Exception as e:\n",
    "        print(f\"Error al guardar los datos en el archivo {nombre_archivo}: {e}\")\n",
    "\n",
    "\n",
    "# Leer los datos desde un archivo CSV\n",
    "def leer_datos_csv(nombre_archivo=\"vehiculos.csv\"):\n",
    "    vehiculos_clasificados = {\n",
    "        \"Particular\": [],\n",
    "        \"Carga\": [],\n",
    "        \"Bicicleta\": [],\n",
    "        \"Motocicleta\": [],\n",
    "    }\n",
    "\n",
    "    try:\n",
    "        with open(nombre_archivo, mode=\"r\") as archivo:\n",
    "            lector_csv = csv.reader(archivo)\n",
    "            for clase_vehiculo, atributos in lector_csv:\n",
    "                vehiculos_clasificados[clase_vehiculo].append(eval(atributos))\n",
    "\n",
    "        for tipo_vehiculo, vehiculos in vehiculos_clasificados.items():\n",
    "            print(f\"\\nLista de Vehículos {tipo_vehiculo}\")\n",
    "            for vehiculo in vehiculos:\n",
    "                print(vehiculo)\n",
    "    except FileNotFoundError:\n",
    "        print(f\"Error: El archivo {nombre_archivo} no fue encontrado.\")\n",
    "    except Exception as e:\n",
    "        print(f\"Error al leer los datos desde el archivo {nombre_archivo}: {e}\")\n",
    "\n",
    "\n",
    "# Guardar los vehículos creados\n",
    "vehiculos_a_guardar = [particular, carga, bicicleta, motocicleta]\n",
    "guardar_datos_csv(vehiculos_a_guardar)\n",
    "\n",
    "# Leer los vehículos desde el archivo CSV\n",
    "leer_datos_csv()"
   ]
  }
 ],
 "metadata": {
  "kernelspec": {
   "display_name": "DataScience",
   "language": "python",
   "name": "python3"
  },
  "language_info": {
   "codemirror_mode": {
    "name": "ipython",
    "version": 3
   },
   "file_extension": ".py",
   "mimetype": "text/x-python",
   "name": "python",
   "nbconvert_exporter": "python",
   "pygments_lexer": "ipython3",
   "version": "3.12.3"
  }
 },
 "nbformat": 4,
 "nbformat_minor": 2
}
